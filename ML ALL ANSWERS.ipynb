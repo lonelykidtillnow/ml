{
 "cells": [
  {
   "cell_type": "code",
   "execution_count": 1,
   "id": "6ab278c8-c79f-4f23-9e17-09740d960765",
   "metadata": {},
   "outputs": [
    {
     "name": "stdin",
     "output_type": "stream",
     "text": [
      "Enter the number of hours studied:  12\n"
     ]
    },
    {
     "name": "stdout",
     "output_type": "stream",
     "text": [
      "Predicted exam score based on 12 hours studied: 88.66666666666666\n"
     ]
    }
   ],
   "source": [
    "import pandas as pd\n",
    "from sklearn.linear_model import LinearRegression\n",
    "\n",
    "# Read the CSV dataset\n",
    "data = pd.read_csv('student_scores.csv')\n",
    "\n",
    "# Extracting features (hours studied) and target (exam scores)\n",
    "x_train = data['hours_studied'].values.reshape(-1,1)\n",
    "y_train = data['exam_scores'].values\n",
    "\n",
    "# Initialize and train the linear regression model\n",
    "model = LinearRegression()\n",
    "model.fit(x_train, y_train)\n",
    "\n",
    "# Function to predict exam score based on hours studied\n",
    "def predict_score(hours):\n",
    "    return model.predict([[hours]])\n",
    "\n",
    "# Example usage\n",
    "hours_prompt = int(input(\"Enter the number of hours studied: \"))\n",
    "predicted_score = predict_score(hours_prompt)\n",
    "print(f\"Predicted exam score based on {hours_prompt} hours studied: {predicted_score[0]}\")"
   ]
  },
  {
   "cell_type": "code",
   "execution_count": 2,
   "id": "23582b99-79f7-440d-b812-aa78e2b3fe1e",
   "metadata": {},
   "outputs": [
    {
     "name": "stdin",
     "output_type": "stream",
     "text": [
      "Enter the temperature (in °C):  25\n"
     ]
    },
    {
     "name": "stdout",
     "output_type": "stream",
     "text": [
      "Predicted ice cream sales for 25°C: 19.821835958718083 litres\n"
     ]
    }
   ],
   "source": [
    "import pandas as pd\n",
    "from sklearn.linear_model import LinearRegression\n",
    "\n",
    "data = pd.read_csv('ice_cream_sales.csv')\n",
    "\n",
    "# Extracting features (temperature) and target (ice cream sales)\n",
    "X = data['Temp(degree Celsius)'].values.reshape(-1,1);\n",
    "y = data['Ice Cream Sale(In litres)'].values\n",
    "\n",
    "# Initialize and train the linear regression model\n",
    "model = LinearRegression()\n",
    "model.fit(X, y)\n",
    "\n",
    "# Function to predict ice cream sales based on temperature\n",
    "def predict_sales(temperature):\n",
    "    return model.predict([[temperature]])\n",
    "\n",
    "# Example usage\n",
    "temperature_prompt = int(input(\"Enter the temperature (in °C): \"))\n",
    "predicted_sales = predict_sales(temperature_prompt)\n",
    "print(f\"Predicted ice cream sales for {temperature_prompt}°C: {predicted_sales[0]} litres\")\n"
   ]
  },
  {
   "cell_type": "code",
   "execution_count": 3,
   "id": "54ddb29f-1505-4520-b853-9bae7a2cf6df",
   "metadata": {},
   "outputs": [
    {
     "name": "stdin",
     "output_type": "stream",
     "text": [
      "Enter the temperature (in °C):  21\n"
     ]
    },
    {
     "name": "stdout",
     "output_type": "stream",
     "text": [
      "Predicted tea sales for 21°C: 42.54725692558394 litres\n"
     ]
    }
   ],
   "source": [
    "import pandas as pd\n",
    "from sklearn.linear_model import LinearRegression\n",
    "\n",
    "data = pd.read_csv('tea_sales.csv')\n",
    "\n",
    "# Extracting features (temperature) and target (tea sales)\n",
    "X = data['Temperature (°C)'].values.reshape(-1, 1)\n",
    "y = data['Tea Sale (litres)'].values\n",
    "\n",
    "# Initialize and train the linear regression model\n",
    "model = LinearRegression()\n",
    "model.fit(X, y)\n",
    "\n",
    "# Function to predict tea sales based on temperature\n",
    "def predict_sales(temperature):\n",
    "    return model.predict([[temperature]])\n",
    "\n",
    "# Example usage\n",
    "temperature_prompt = int(input(\"Enter the temperature (in °C): \"))\n",
    "predicted_sales = predict_sales(temperature_prompt)\n",
    "print(f\"Predicted tea sales for {temperature_prompt}°C: {predicted_sales[0]} litres\")\n"
   ]
  },
  {
   "cell_type": "code",
   "execution_count": 4,
   "id": "b6613307-0769-4851-8bf4-b252f60191e9",
   "metadata": {},
   "outputs": [
    {
     "name": "stdin",
     "output_type": "stream",
     "text": [
      "Enter the volume of the car (in cc):  1000\n",
      "Enter the weight of the car (in kg):  250\n"
     ]
    },
    {
     "name": "stdout",
     "output_type": "stream",
     "text": [
      "Predicted CO2 emissions: 113.74169679825795 g/km\n"
     ]
    }
   ],
   "source": [
    "import pandas as pd\n",
    "from sklearn.linear_model import LinearRegression\n",
    "\n",
    "# Load the dataset from CSV\n",
    "data = pd.read_csv('car_data.csv')\n",
    "\n",
    "# Extracting features (volume and weight) and target (CO2 emissions)\n",
    "X = data[['VOLUME', 'WEIGHT']].values.reshape(-1,2)\n",
    "y = data['CO2'].values\n",
    "\n",
    "# Initialize and train the linear regression model\n",
    "model = LinearRegression()\n",
    "model.fit(X, y)\n",
    "\n",
    "# Function to predict CO2 emissions based on volume and weight\n",
    "def predict_co2(volume, weight):\n",
    "    return model.predict([[volume, weight]])\n",
    "\n",
    "# Example usage\n",
    "volume_prompt = float(input(\"Enter the volume of the car (in cc): \"))\n",
    "weight_prompt = float(input(\"Enter the weight of the car (in kg): \"))\n",
    "predicted_co2 = predict_co2(volume_prompt, weight_prompt)\n",
    "print(f\"Predicted CO2 emissions: {predicted_co2[0]} g/km\")\n"
   ]
  },
  {
   "cell_type": "code",
   "execution_count": 5,
   "id": "b9504cbd-58db-46b3-a72e-15bc93f4e286",
   "metadata": {},
   "outputs": [
    {
     "name": "stdout",
     "output_type": "stream",
     "text": [
      "Accuracy: 1.0\n",
      "Classification Report:\n",
      "              precision    recall  f1-score   support\n",
      "\n",
      "           0       1.00      1.00      1.00         1\n",
      "           1       1.00      1.00      1.00         2\n",
      "\n",
      "    accuracy                           1.00         3\n",
      "   macro avg       1.00      1.00      1.00         3\n",
      "weighted avg       1.00      1.00      1.00         3\n",
      "\n"
     ]
    }
   ],
   "source": [
    "import pandas as pd\n",
    "from sklearn.model_selection import train_test_split\n",
    "from sklearn.linear_model import LogisticRegression\n",
    "from sklearn.metrics import accuracy_score, classification_report\n",
    "\n",
    "# Load the dataset from CSV\n",
    "data = pd.read_csv('customer_data.csv')\n",
    "\n",
    "# Drop 'User ID' column from X, and store 'Purchased' in y\n",
    "X = data.drop(['User ID', 'Purchased'], axis=1)\n",
    "y = data['Purchased'].values\n",
    "\n",
    "# One-hot encode the 'Gender' column\n",
    "X = pd.get_dummies(X, drop_first=True)\n",
    "\n",
    "# Split the dataset into training and testing sets\n",
    "X_train, X_test, y_train, y_test = train_test_split(X, y, test_size=0.2, random_state=42)\n",
    "\n",
    "# Initialize and train the logistic regression model\n",
    "model = LogisticRegression()\n",
    "model.fit(X_train, y_train)\n",
    "\n",
    "# Predictions on the testing set\n",
    "y_pred = model.predict(X_test)\n",
    "\n",
    "# Evaluate the model\n",
    "accuracy = accuracy_score(y_test, y_pred)\n",
    "print(\"Accuracy:\", accuracy)\n",
    "\n",
    "# Classification report\n",
    "print(\"Classification Report:\")\n",
    "print(classification_report(y_test, y_pred))\n"
   ]
  },
  {
   "cell_type": "code",
   "execution_count": 6,
   "id": "fb4d6308-4042-4e3d-a927-e4d377897d34",
   "metadata": {},
   "outputs": [
    {
     "name": "stdout",
     "output_type": "stream",
     "text": [
      "Accuracy: 1.0\n",
      "Classification Report:\n",
      "              precision    recall  f1-score   support\n",
      "\n",
      "           0       1.00      1.00      1.00         1\n",
      "           1       1.00      1.00      1.00         2\n",
      "\n",
      "    accuracy                           1.00         3\n",
      "   macro avg       1.00      1.00      1.00         3\n",
      "weighted avg       1.00      1.00      1.00         3\n",
      "\n"
     ]
    }
   ],
   "source": [
    "import pandas as pd\n",
    "from sklearn.model_selection import train_test_split\n",
    "from sklearn.naive_bayes import GaussianNB\n",
    "from sklearn.preprocessing import LabelEncoder\n",
    "from sklearn.metrics import accuracy_score, classification_report\n",
    "\n",
    "# Load the dataset\n",
    "data = pd.read_csv(\"credit_card_data.csv\")\n",
    "\n",
    "# Encode categorical variables\n",
    "label_encoders = {}\n",
    "for column in data.columns:\n",
    "    if data[column].dtype == 'object':\n",
    "        label_encoders[column] = LabelEncoder()\n",
    "        data[column] = label_encoders[column].fit_transform(data[column])\n",
    "\n",
    "# Split features and target variable\n",
    "X = data.drop(columns=['Buy'])\n",
    "y = data['Buy']\n",
    "\n",
    "# Split the dataset into training and testing sets\n",
    "X_train, X_test, y_train, y_test = train_test_split(X, y, test_size=0.2, random_state=42)\n",
    "\n",
    "# Initialize and train the Naive Bayes classifier\n",
    "nb_classifier = GaussianNB()\n",
    "nb_classifier.fit(X_train, y_train)\n",
    "\n",
    "# Make predictions\n",
    "y_pred = nb_classifier.predict(X_test)\n",
    "\n",
    "# Calculate accuracy\n",
    "accuracy = accuracy_score(y_test, y_pred)\n",
    "print(\"Accuracy:\", accuracy)\n",
    "\n",
    "# Generate and display classification report\n",
    "classification_rep = classification_report(y_test, y_pred)\n",
    "print(\"Classification Report:\")\n",
    "print(classification_rep)\n"
   ]
  },
  {
   "cell_type": "code",
   "execution_count": 7,
   "id": "3432c677-007e-498d-ae2a-262917c3e17f",
   "metadata": {},
   "outputs": [
    {
     "name": "stdout",
     "output_type": "stream",
     "text": [
      "Accuracy: 0.6666666666666666\n",
      "Classification Report:\n",
      "              precision    recall  f1-score   support\n",
      "\n",
      "          No       0.50      1.00      0.67         1\n",
      "         Yes       1.00      0.50      0.67         2\n",
      "\n",
      "    accuracy                           0.67         3\n",
      "   macro avg       0.75      0.75      0.67         3\n",
      "weighted avg       0.83      0.67      0.67         3\n",
      "\n",
      "Prediction: No\n"
     ]
    }
   ],
   "source": [
    "import pandas as pd\n",
    "from sklearn.model_selection import train_test_split\n",
    "from sklearn.naive_bayes import GaussianNB\n",
    "from sklearn.metrics import accuracy_score, classification_report\n",
    "\n",
    "df = pd.read_csv('tennis_data.csv')\n",
    "\n",
    "df_encoded = pd.get_dummies(df, columns=['Outlook', 'Temperature', 'Humidity', 'Windy'])\n",
    "\n",
    "X = df_encoded.drop('Play Tennis', axis=1)\n",
    "y = df_encoded['Play Tennis']\n",
    "\n",
    "X_train, X_test, y_train, y_test = train_test_split(X, y, test_size=0.2, random_state=42)\n",
    "\n",
    "nb_classifier = GaussianNB()\n",
    "nb_classifier.fit(X_train, y_train)\n",
    "\n",
    "y_pred = nb_classifier.predict(X_test)\n",
    "\n",
    "accuracy = accuracy_score(y_test, y_pred)\n",
    "print(\"Accuracy:\", accuracy)\n",
    "\n",
    "print(\"Classification Report:\")\n",
    "print(classification_report(y_test, y_pred))\n",
    "\n",
    "new_instance = pd.DataFrame({'Outlook_Overcast': [0], 'Outlook_Rainy': [1], 'Outlook_Sunny': [0],\n",
    "                             'Temperature_Cool': [0], 'Temperature_Hot': [0], 'Temperature_Mild': [1],\n",
    "                             'Humidity_High': [1], 'Humidity_Normal': [0],\n",
    "                             'Windy_False': [0], 'Windy_True': [1]})\n",
    "\n",
    "prediction = nb_classifier.predict(new_instance)\n",
    "print(\"Prediction:\", prediction[0])\n",
    "\n"
   ]
  },
  {
   "cell_type": "code",
   "execution_count": 8,
   "id": "05e71585-021b-4817-bfeb-7319300a6ef7",
   "metadata": {},
   "outputs": [
    {
     "name": "stdout",
     "output_type": "stream",
     "text": [
      "Accuracy: 0.6666666666666666\n",
      "Classification Report:\n",
      "              precision    recall  f1-score   support\n",
      "\n",
      "           0       0.50      1.00      0.67         1\n",
      "           1       1.00      0.50      0.67         2\n",
      "\n",
      "    accuracy                           0.67         3\n",
      "   macro avg       0.75      0.75      0.67         3\n",
      "weighted avg       0.83      0.67      0.67         3\n",
      "\n"
     ]
    }
   ],
   "source": [
    "import pandas as pd\n",
    "from sklearn.model_selection import train_test_split\n",
    "from sklearn.tree import DecisionTreeClassifier\n",
    "from sklearn.metrics import accuracy_score, classification_report\n",
    "\n",
    "data = pd.read_csv('diabetes_data.csv')\n",
    "\n",
    "X = data.drop('Outcome', axis=1)\n",
    "y = data['Outcome']\n",
    "X_train, X_test, y_train, y_test = train_test_split(X, y, test_size=0.2, random_state=42)\n",
    "\n",
    "model = DecisionTreeClassifier(random_state=42)\n",
    "\n",
    "model.fit(X_train, y_train)\n",
    "\n",
    "y_pred = model.predict(X_test)\n",
    "accuracy = accuracy_score(y_test, y_pred)\n",
    "print(\"Accuracy:\", accuracy)\n",
    "print(\"Classification Report:\")\n",
    "print(classification_report(y_test, y_pred))\n"
   ]
  },
  {
   "cell_type": "code",
   "execution_count": 30,
   "id": "b7ee16bf-2c06-4186-a509-8b41f219204c",
   "metadata": {},
   "outputs": [
    {
     "name": "stdout",
     "output_type": "stream",
     "text": [
      "Accuracy: 0.6666666666666666\n",
      "[[1 1]\n",
      " [0 1]]\n",
      "              precision    recall  f1-score   support\n",
      "\n",
      "           0       1.00      0.50      0.67         2\n",
      "           1       0.50      1.00      0.67         1\n",
      "\n",
      "    accuracy                           0.67         3\n",
      "   macro avg       0.75      0.75      0.67         3\n",
      "weighted avg       0.83      0.67      0.67         3\n",
      "\n"
     ]
    }
   ],
   "source": [
    "import numpy as np\n",
    "\n",
    "import pandas as pd\n",
    "\n",
    "from sklearn import metrics #Import scikit-learn metrics module for accuracy calculation\n",
    "\n",
    "from sklearn.metrics import classification_report, confusion_matrix\n",
    "\n",
    "# Read csv file\n",
    "\n",
    "df=pd.read_csv(\"tennis_dataset.csv\")\n",
    "\n",
    "value=['Outlook','Temprature','Humidity','Wind']\n",
    "\n",
    "\n",
    "from sklearn import preprocessing\n",
    "\n",
    "string_to_int= preprocessing.LabelEncoder()\n",
    "\n",
    "df=df.apply(string_to_int.fit_transform)\n",
    "\n",
    "feature_cols = ['Outlook','Temprature','Humidity','Wind']\n",
    "\n",
    "X = df[feature_cols ]\n",
    "\n",
    "y = df['Play Tennis']\n",
    "\n",
    "from sklearn.model_selection import train_test_split\n",
    "\n",
    "X_train, X_test, y_train, y_test = train_test_split(X, y, test_size=0.30)\n",
    "\n",
    "# perform training\n",
    "\n",
    "from sklearn.tree import DecisionTreeClassifier # import the classifier\n",
    "\n",
    "classifier =DecisionTreeClassifier(criterion=\"entropy\", random_state=100) # create a classifier object\n",
    "\n",
    "classifier.fit(X_train, y_train)\n",
    "\n",
    "#Predict the response for test dataset\n",
    "\n",
    "y_pred= classifier.predict(X_test)\n",
    "\n",
    "# Accuracy\n",
    "\n",
    "from sklearn.metrics import accuracy_score\n",
    "\n",
    "print(\"Accuracy:\",metrics.accuracy_score(y_test, y_pred))\n",
    "\n",
    "# Confusion Matrix\n",
    "\n",
    "print(confusion_matrix(y_test, y_pred))\n",
    "\n",
    "print(classification_report(y_test, y_pred,zero_division=1))"
   ]
  },
  {
   "cell_type": "code",
   "execution_count": 31,
   "id": "8b3d7893-9d66-4f5c-8283-86adf7793942",
   "metadata": {},
   "outputs": [
    {
     "name": "stdout",
     "output_type": "stream",
     "text": [
      "      support                                         itemsets\n",
      "0    0.285714                                        (avocado)\n",
      "22   0.285714                                         (shrimp)\n",
      "24   0.285714                                      (spaghetti)\n",
      "16   0.285714                                          (pasta)\n",
      "12   0.285714                                           (milk)\n",
      "10   0.285714                                          (honey)\n",
      "4    0.285714                                           (eggs)\n",
      "103  0.285714                                  (shrimp, pasta)\n",
      "366  0.142857     (milk, protein bar, french fries, meatballs)\n",
      "365  0.142857         (milk, protein bar, honey, french fries)\n",
      "364  0.142857    (honey, protein bar, french fries, meatballs)\n",
      "363  0.142857           (milk, honey, french fries, meatballs)\n",
      "367  0.142857       (milk, soup, fresh bread, parmesan cheese)\n",
      "362  0.142857                (red wine, shrimp, eggs, shampoo)\n",
      "361  0.142857                  (shrimp, eggs, shampoo, pepper)\n",
      "360  0.142857                 (red wine, eggs, shrimp, pepper)\n",
      "359  0.142857                (red wine, eggs, shampoo, pepper)\n",
      "358  0.142857                   (shrimp, eggs, shampoo, pasta)\n",
      "357  0.142857                  (red wine, eggs, shrimp, pasta)\n",
      "368  0.142857  (milk, fresh bread, spaghetti, parmesan cheese)\n"
     ]
    }
   ],
   "source": [
    "import csv\n",
    "import pandas as pd\n",
    "from mlxtend.preprocessing import TransactionEncoder\n",
    "from mlxtend.frequent_patterns import apriori\n",
    "\n",
    "# Initialize an empty list to store the dataset\n",
    "dataset = []\n",
    "\n",
    "# Read the CSV file and convert it into the desired format\n",
    "with open('customer_transactions.csv', newline='') as csvfile:\n",
    "    reader = csv.reader(csvfile)\n",
    "    for row in reader:\n",
    "        # Append each row (transaction) to the dataset as a list\n",
    "        dataset.append(row)\n",
    "\n",
    "# Convert the transactions into a transaction encoding format\n",
    "te = TransactionEncoder()\n",
    "te_ary = te.fit(dataset).transform(dataset)\n",
    "df = pd.DataFrame(te_ary, columns=te.columns_)\n",
    "\n",
    "# Apply the Apriori algorithm to find frequent item sets\n",
    "frequent_itemsets = apriori(df, min_support=0.003, use_colnames=True)\n",
    "\n",
    "# Sort the frequent item sets by support values\n",
    "frequent_itemsets_sorted = frequent_itemsets.sort_values(by='support', ascending=False)\n",
    "\n",
    "# Display the first 20 frequent item sets\n",
    "print(frequent_itemsets_sorted.head(20))\n"
   ]
  },
  {
   "cell_type": "code",
   "execution_count": 32,
   "id": "dd28bc0a-e62b-496c-8301-f706868ef97e",
   "metadata": {},
   "outputs": [
    {
     "name": "stdout",
     "output_type": "stream",
     "text": [
      "    CustomerID   Genre  Age  Annual Income (k$)  Spending Score  Cluster\n",
      "0            1    Male   19                  15              39        2\n",
      "1            2    Male   21                  15              81        0\n",
      "2            3  Female   20                  16               6        1\n",
      "3            4  Female   23                  16              77        0\n",
      "4            5  Female   31                  17              40        2\n",
      "5            6  Female   22                  17              76        0\n",
      "6            7  Female   35                  18               6        1\n",
      "7            8  Female   23                  18              94        4\n",
      "8            9    Male   64                  19               3        3\n",
      "9           10  Female   30                  19              72        0\n",
      "10          11    Male   67                  19              14        3\n",
      "11          12  Female   35                  19              99        4\n",
      "12          13  Female   58                  20              15        3\n",
      "13          14  Female   24                  20              77        0\n",
      "14          15    Male   37                  20              13        1\n"
     ]
    }
   ],
   "source": [
    "import pandas as pd\n",
    "from sklearn.cluster import KMeans\n",
    "\n",
    "# Read the data from the CSV file\n",
    "data = pd.read_csv(\"customer_data2.csv\")\n",
    "\n",
    "# Extracting relevant features for clustering\n",
    "X = data.iloc[:, [2, 3, 4]].values  # Age, Annual Income, Spending Score\n",
    "\n",
    "# Applying K-means to the dataset with 5 clusters\n",
    "kmeans = KMeans(n_clusters=5, init='k-means++', random_state=42)\n",
    "y_kmeans = kmeans.fit_predict(X)\n",
    "\n",
    "# Adding the cluster labels to the dataset\n",
    "data['Cluster'] = y_kmeans\n",
    "\n",
    "# Displaying the clustered data\n",
    "print(data)\n"
   ]
  },
  {
   "cell_type": "code",
   "execution_count": 33,
   "id": "cdccc25e-4a75-4699-9dc2-c193c7132f75",
   "metadata": {},
   "outputs": [
    {
     "name": "stdout",
     "output_type": "stream",
     "text": [
      "   status_id status_type  num_commnts  num_shares  num_likes  num_wows  \\\n",
      "0       7474       video          512         262        432         3   \n",
      "1       7757       photo            0           0        150         0   \n",
      "2       7397       video          236          57        204         1   \n",
      "3       9452       photo            0           0        111         0   \n",
      "4       3739       photo            0           0        204         0   \n",
      "5       8773       photo            6           0        211         1   \n",
      "\n",
      "   num_hahas  num_sads  num_angrys  Cluster  \n",
      "0          1         1           0        2  \n",
      "1          0         0           0        4  \n",
      "2          1         0           0        0  \n",
      "3          0         0           0        3  \n",
      "4          0         0           0        1  \n",
      "5          0         0           0        1  \n"
     ]
    }
   ],
   "source": [
    "import pandas as pd\n",
    "from sklearn.cluster import KMeans\n",
    "\n",
    "# Read the data from the CSV file\n",
    "data = pd.read_csv(\"status_data.csv\")\n",
    "\n",
    "# Extracting relevant features for clustering\n",
    "X = data.iloc[:, 2:].values  # Exclude the status_id and status_type columns\n",
    "\n",
    "# Applying K-means to the dataset with 2 clusters (for demonstration)\n",
    "kmeans = KMeans(n_clusters=5, init='k-means++', random_state=42)\n",
    "y_kmeans = kmeans.fit_predict(X)\n",
    "\n",
    "# Adding the cluster labels to the dataset\n",
    "data['Cluster'] = y_kmeans\n",
    "\n",
    "# Displaying the clustered data\n",
    "print(data)\n"
   ]
  },
  {
   "cell_type": "code",
   "execution_count": null,
   "id": "9a96f459-c703-4765-9fbd-3ec7447d2189",
   "metadata": {},
   "outputs": [],
   "source": []
  }
 ],
 "metadata": {
  "kernelspec": {
   "display_name": "Python 3 (ipykernel)",
   "language": "python",
   "name": "python3"
  },
  "language_info": {
   "codemirror_mode": {
    "name": "ipython",
    "version": 3
   },
   "file_extension": ".py",
   "mimetype": "text/x-python",
   "name": "python",
   "nbconvert_exporter": "python",
   "pygments_lexer": "ipython3",
   "version": "3.12.2"
  }
 },
 "nbformat": 4,
 "nbformat_minor": 5
}
